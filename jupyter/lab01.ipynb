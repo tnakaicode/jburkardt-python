{
 "cells": [
  {
   "cell_type": "markdown",
   "metadata": {},
   "source": [
    "# Machine Learning Lab \\#1\n",
    "\n",
    "## Introduction\n",
    "\n",
    "This lab jumps right into MATLAB. We want tot go over the most common techniques and commands that will be used in teh future computational lab work. BEcause machine learning involves data, we will look at reading data from a file into an array, and performing some simple tasks on taht data , and writing data back to a file. We will also look a little nit a MATLAB arrays, and control statements. \n",
    "\n",
    "If you are completely new to MATLAB, then you should review the information at places like the [MATHWORKS tutorial website](https://www.mathworks.com/support/learn-with-matlab-tutorials.html). The first three labs will preseent you with examples of various MATLAB techniques. In many cases, there will be a lot of unexplained material. It is your responsibility to figure things out, to work out the derails, and be able to understand what is going on, so that you can use these techniques on your own to solve the upcoming problems.\n"
   ]
  },
  {
   "cell_type": "markdown",
   "metadata": {},
   "source": [
    "## Exercise: Unscramble the SCRAMBLED Matrix\n",
    "\n",
    "Locate the file _scrambled.txt_. Copy it into the directory in which this notebook is stored. MATLAB cn display the contents by the command"
   ]
  },
  {
   "cell_type": "code",
   "execution_count": 18,
   "metadata": {},
   "outputs": [
    {
     "name": "stderr",
     "output_type": "stream",
     "text": [
      "File 'scrambled.txt' not found.\n"
     ]
    }
   ],
   "source": [
    "type 'scrambled.txt'"
   ]
  },
  {
   "cell_type": "markdown",
   "metadata": {},
   "source": [
    "Load the data into a MATLAB array called ```A```:"
   ]
  },
  {
   "cell_type": "code",
   "execution_count": 19,
   "metadata": {},
   "outputs": [
    {
     "name": "stderr",
     "output_type": "stream",
     "text": [
      "Unable to read file 'scrambled.txt'. No such file or directory.\n"
     ]
    }
   ],
   "source": [
    "A = load('scrambled.txt')"
   ]
  },
  {
   "cell_type": "markdown",
   "metadata": {
    "slideshow": {
     "slide_type": "subslide"
    }
   },
   "source": [
    "The ```size``` command can be used to determine the dimensions of our matrix. "
   ]
  },
  {
   "cell_type": "code",
   "execution_count": 20,
   "metadata": {},
   "outputs": [
    {
     "name": "stderr",
     "output_type": "stream",
     "text": [
      "Undefined function or variable 'A'.\n"
     ]
    }
   ],
   "source": [
    "[m, n] = size(A)"
   ]
  },
  {
   "cell_type": "markdown",
   "metadata": {},
   "source": [
    "To access a specific value in an array, we write something like ```A(i,j)``` where ```i``` and ```j``` specify the row and column. The row and column indices can be numbers, or range, or a colon. Try the follwing"
   ]
  },
  {
   "cell_type": "code",
   "execution_count": 21,
   "metadata": {},
   "outputs": [
    {
     "name": "stderr",
     "output_type": "stream",
     "text": [
      "Undefined function 'A' for input arguments of type 'double'.\n"
     ]
    }
   ],
   "source": [
    "% A single value in row 3, column 2\n",
    "A(3,2)"
   ]
  },
  {
   "cell_type": "code",
   "execution_count": 22,
   "metadata": {},
   "outputs": [
    {
     "name": "stderr",
     "output_type": "stream",
     "text": [
      "Undefined function 'A' for input arguments of type 'double'.\n"
     ]
    }
   ],
   "source": [
    "% row 5, columns 2 through 4\n",
    "A(5,2:4)"
   ]
  },
  {
   "cell_type": "code",
   "execution_count": 23,
   "metadata": {},
   "outputs": [
    {
     "name": "stderr",
     "output_type": "stream",
     "text": [
      "Undefined function or variable 'A'.\n"
     ]
    }
   ],
   "source": [
    "% column 4, all entries\n",
    "A(:,4)"
   ]
  },
  {
   "cell_type": "code",
   "execution_count": 24,
   "metadata": {},
   "outputs": [
    {
     "name": "stderr",
     "output_type": "stream",
     "text": [
      "Error: Unbalanced or unexpected parenthesis or bracket.\n"
     ]
    }
   ],
   "source": [
    "% row 2, all entries\n",
    "B(2,)"
   ]
  },
  {
   "cell_type": "code",
   "execution_count": 25,
   "metadata": {},
   "outputs": [
    {
     "name": "stderr",
     "output_type": "stream",
     "text": [
      "Undefined function 'B' for input arguments of type 'double'.\n"
     ]
    }
   ],
   "source": [
    "% rows 3 through 6, column\n",
    "B(3:6,1)"
   ]
  },
  {
   "cell_type": "markdown",
   "metadata": {},
   "source": [
    "Notice that commands that don't terminate with a semicolon will print out the corresponding values computed, if an. \n",
    "Now it turns out the ```A``` array has some mistakes in it, which we want to correct. The correct values are quite simple \n",
    "\n",
    "\\begin{equation*}\n",
    "\\begin{array}{ccccc}\n",
    "11 & 12 & 13 & 14 & 15 \\\\\n",
    "21 & 22 & 23 & 24 & 25 \\\\\n",
    "31 & 32 & 33 & 34 & 35 \\\\\n",
    "41 & 42 & 43 & 44 & 45 \\\\\n",
    "51 & 52 & 53 & 54 & 55\\\\\n",
    "61 & 62 & 63 & 64 & 65 \\\\\n",
    "71 & 72 & 73 & 74 & 75 \n",
    "\\end{array}\n",
    "\\end{equation*}\n",
    "\n",
    "As a guide, we will load a copy of the correct data:"
   ]
  },
  {
   "cell_type": "code",
   "execution_count": 26,
   "metadata": {},
   "outputs": [
    {
     "name": "stderr",
     "output_type": "stream",
     "text": [
      "Unable to read file 'correct.txt'. No such file or directory.\n"
     ]
    }
   ],
   "source": [
    "B = load ( 'correct.txt' );"
   ]
  },
  {
   "cell_type": "markdown",
   "metadata": {},
   "source": [
    "Our goal is to modify the array $A$ so that it matches $B$.To asee whether we have a match, we can type:"
   ]
  },
  {
   "cell_type": "code",
   "execution_count": 27,
   "metadata": {},
   "outputs": [
    {
     "name": "stderr",
     "output_type": "stream",
     "text": [
      "Undefined function or variable 'A'.\n"
     ]
    }
   ],
   "source": [
    "A-B"
   ]
  },
  {
   "cell_type": "markdown",
   "metadata": {},
   "source": [
    "We can get a condensed answer by asking for the norm of teh difference, which will oonly be zerp if the matrices match:"
   ]
  },
  {
   "cell_type": "code",
   "execution_count": 28,
   "metadata": {},
   "outputs": [
    {
     "name": "stderr",
     "output_type": "stream",
     "text": [
      "Undefined function or variable 'A'.\n"
     ]
    }
   ],
   "source": [
    "norm ( A - B)"
   ]
  },
  {
   "cell_type": "markdown",
   "metadata": {},
   "source": [
    "Let's try to patch the matrix $A$ so that it equals $B$. I think this is doable in 5 steps, each time using a MATLAB command:\n",
    "\n",
    "1. The entry in row 6, column 4 of $A$ should be changed to 64;\n",
    "2. All negative values should be replaces by positive values;\n",
    "3. All noninteger values should be round _down_;\n",
    "4. Rows 2 and 4 should be swapped; \n",
    "5. Columns 3 and 5 should be swapped.\n",
    "\n",
    "Each operation, if done correctly, should result in decreasing ```norm(A-B)```. If you get to teh end, your norm is 0, and the matrices are identical."
   ]
  },
  {
   "cell_type": "code",
   "execution_count": 29,
   "metadata": {},
   "outputs": [
    {
     "name": "stderr",
     "output_type": "stream",
     "text": [
      "Undefined function or variable 'A'.\n"
     ]
    }
   ],
   "source": [
    "% Check norm \n",
    "norm(A-B)\n",
    "\n",
    "% 1. \n",
    "\n",
    "% Check norm"
   ]
  },
  {
   "cell_type": "code",
   "execution_count": 30,
   "metadata": {},
   "outputs": [],
   "source": [
    "% 2. \n",
    "\n",
    "% Check norm"
   ]
  },
  {
   "cell_type": "code",
   "execution_count": 31,
   "metadata": {},
   "outputs": [],
   "source": [
    "% 3. \n",
    "\n",
    "% Check norm "
   ]
  },
  {
   "cell_type": "code",
   "execution_count": 32,
   "metadata": {},
   "outputs": [],
   "source": [
    "% 4. \n",
    "\n",
    "% Check norm"
   ]
  },
  {
   "cell_type": "code",
   "execution_count": 33,
   "metadata": {},
   "outputs": [],
   "source": [
    "% 5. \n",
    "\n",
    "% Check norm"
   ]
  },
  {
   "cell_type": "markdown",
   "metadata": {},
   "source": [
    "Once this exercise is complete, we may want to clear out our old data. We can specify data to be cleared, as in "
   ]
  },
  {
   "cell_type": "code",
   "execution_count": 34,
   "metadata": {},
   "outputs": [],
   "source": [
    "clear A"
   ]
  },
  {
   "cell_type": "raw",
   "metadata": {
    "slideshow": {
     "slide_type": "subslide"
    }
   },
   "source": [
    "or just clear everything"
   ]
  },
  {
   "cell_type": "code",
   "execution_count": 35,
   "metadata": {},
   "outputs": [],
   "source": [
    "clear"
   ]
  },
  {
   "cell_type": "markdown",
   "metadata": {},
   "source": [
    "## 3. Exercise: Clean up the FAITHFUL Data"
   ]
  }
 ],
 "metadata": {
  "kernelspec": {
   "display_name": "Matlab",
   "language": "matlab",
   "name": "matlab_kernel"
  },
  "language_info": {
   "codemirror_mode": "Octave",
   "file_extension": ".m",
   "help_links": [
    {
     "text": "MetaKernel Magics",
     "url": "https://github.com/calysto/metakernel/blob/master/metakernel/magics/README.md"
    }
   ],
   "mimetype": "text/x-matlab",
   "name": "octave"
  },
  "latex_envs": {
   "LaTeX_envs_menu_present": true,
   "autoclose": false,
   "autocomplete": false,
   "bibliofile": "biblio.bib",
   "cite_by": "apalike",
   "current_citInitial": 1,
   "eqLabelWithNumbers": true,
   "eqNumInitial": 1,
   "hotkeys": {
    "equation": "Ctrl-E",
    "itemize": "Ctrl-I"
   },
   "labels_anchors": false,
   "latex_user_defs": false,
   "report_style_numbering": false,
   "user_envs_cfg": false
  },
  "toc": {
   "nav_menu": {},
   "number_sections": false,
   "sideBar": true,
   "skip_h1_title": false,
   "title_cell": "Table of Contents",
   "title_sidebar": "Contents",
   "toc_cell": false,
   "toc_position": {},
   "toc_section_display": true,
   "toc_window_display": false
  }
 },
 "nbformat": 4,
 "nbformat_minor": 2
}
